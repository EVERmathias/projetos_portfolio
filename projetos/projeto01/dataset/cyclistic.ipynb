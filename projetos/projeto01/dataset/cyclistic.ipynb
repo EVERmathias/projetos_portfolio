{
 "cells": [
  {
   "cell_type": "code",
   "execution_count": null,
   "metadata": {},
   "outputs": [],
   "source": [
    "import pandas as pd\n",
    "import matplotlib.pyplot as plt\n",
    "import numpy as np\n",
    "# Importando todos os arquivos csv, distintos por mês\n",
    "\n",
    "mes_1 = pd.read_csv(r\"../dados de viagens ciclísticas dos últimos 12 meses/202401-divvy-tripdata.csv\")\n",
    "mes_2 = pd.read_csv(r\"../dados de viagens ciclísticas dos últimos 12 meses/202402-divvy-tripdata.csv\")\n",
    "mes_3 =  pd.read_csv(\"../dados de viagens ciclísticas dos últimos 12 meses/202403-divvy-tripdata.csv\")\n",
    "mes_4 = pd.read_csv(r\"../dados de viagens ciclísticas dos últimos 12 meses/202404-divvy-tripdata.csv\")\n",
    "mes_5 = pd.read_csv(r\"../dados de viagens ciclísticas dos últimos 12 meses/202405-divvy-tripdata.csv\")\n",
    "mes_6 = pd.read_csv(r\"../dados de viagens ciclísticas dos últimos 12 meses/202406-divvy-tripdata.csv\")\n",
    "mes_7 =  pd.read_csv(r\"../dados de viagens ciclísticas dos últimos 12 meses/202407-divvy-tripdata.csv\")\n",
    "mes_8 = pd.read_csv(r\"../dados de viagens ciclísticas dos últimos 12 meses/202408-divvy-tripdata.csv\")\n",
    "mes_9 =  pd.read_csv(r\"../dados de viagens ciclísticas dos últimos 12 meses/202409-divvy-tripdata.csv\")\n",
    "mes_10 = pd.read_csv(r\"../dados de viagens ciclísticas dos últimos 12 meses/202410-divvy-tripdata.csv\")\n",
    "mes_11 = pd.read_csv(r\"../dados de viagens ciclísticas dos últimos 12 meses/202411-divvy-tripdata.csv\")\n",
    "mes_12 =  pd.read_csv(r\"../dados de viagens ciclísticas dos últimos 12 meses/202412-divvy-tripdata.csv\")"
   ]
  },
  {
   "cell_type": "code",
   "execution_count": null,
   "metadata": {},
   "outputs": [],
   "source": [
    "# Convertendo os arquivos csv em DataFrame\n",
    "\n",
    "mes_1_df = pd.DataFrame(mes_1)\n",
    "mes_2_df = pd.DataFrame(mes_2)\n",
    "mes_3_df = pd.DataFrame(mes_3)\n",
    "mes_4_df = pd.DataFrame(mes_4)\n",
    "mes_5_df = pd.DataFrame(mes_5)\n",
    "mes_6_df = pd.DataFrame(mes_6)\n",
    "mes_7_df = pd.DataFrame(mes_7)\n",
    "mes_8_df = pd.DataFrame(mes_8)\n",
    "mes_9_df = pd.DataFrame(mes_9)\n",
    "mes_10_df = pd.DataFrame(mes_10)\n",
    "mes_11_df = pd.DataFrame(mes_11)\n",
    "mes_12_df = pd.DataFrame(mes_12)"
   ]
  },
  {
   "cell_type": "code",
   "execution_count": null,
   "metadata": {},
   "outputs": [],
   "source": [
    "# Concatenando os dados do dataset, reinicializando os índices e removendo duplicatas \n",
    "\n",
    "ano = pd.concat([mes_1_df, mes_2_df, mes_3_df, mes_4_df, mes_5_df, mes_6_df, mes_7_df, mes_8_df, mes_9_df, mes_10_df, mes_11_df, mes_12_df], ignore_index=True)\n",
    "ano = ano.drop_duplicates()"
   ]
  },
  {
   "cell_type": "code",
   "execution_count": null,
   "metadata": {},
   "outputs": [],
   "source": [
    "# Propriedades do DataFrame\n",
    "print(f\"Quantidade de linhas:\\n{ano.shape[0]}\"); print(\"-\" * 35)\n",
    "print(f\"Quantidade de colunas:\\n{ano.shape[1]}\"); print(\"-\" * 35)\n",
    "print(f\"Tipos de dados:\\n{ano.dtypes}\"); print(\"-\" * 35)\n",
    "print(f\"Tamanho do arquivo:\\n{ano.size}\"); print(\"-\" * 35)"
   ]
  },
  {
   "cell_type": "code",
   "execution_count": null,
   "metadata": {},
   "outputs": [],
   "source": [
    "# Verificando inconsistência nos dados e valores nulos\n",
    "valores_nulos = ano.isnull().sum()\n",
    "print(f\"Checando valores nulos:\\n{valores_nulos}\");print(\"-\" * 35)"
   ]
  },
  {
   "cell_type": "code",
   "execution_count": null,
   "metadata": {},
   "outputs": [],
   "source": [
    "# Removendo valores nulos\n",
    "ano = ano.dropna()"
   ]
  },
  {
   "cell_type": "code",
   "execution_count": null,
   "metadata": {},
   "outputs": [],
   "source": [
    "# Convertendo as colunas 'started_at e 'ended_at' de objetos para datetime\n",
    "\n",
    "ano['started_at'] = pd.to_datetime(ano['started_at'], format='mixed')\n",
    "ano['ended_at'] = pd.to_datetime(ano['ended_at'], format='mixed')"
   ]
  },
  {
   "cell_type": "code",
   "execution_count": null,
   "metadata": {},
   "outputs": [],
   "source": [
    "# Criando a coluna 'ride_length' que mostra o resultado do ínicio de viagem de bicicleta até o término\n",
    "\n",
    "ano['ride_length'] = ano['ended_at'] - ano['started_at']\n",
    "\n",
    "ano.info()\n",
    "ano['ride_length'].head()"
   ]
  },
  {
   "cell_type": "code",
   "execution_count": null,
   "metadata": {},
   "outputs": [],
   "source": [
    "# Criando uma coluna chamada 'day_of_week' com o ínicio de \n",
    "\n",
    "ano['day_of_week'] = ano['started_at'].dt.day_name()\n",
    "ano['day_of_week']"
   ]
  },
  {
   "cell_type": "code",
   "execution_count": null,
   "metadata": {},
   "outputs": [],
   "source": [
    "# Checando inconsistência nos dados da coluna 'ride-length'\n",
    "\n",
    "teste = ano.sort_values(by='ride_length', ascending=True)"
   ]
  },
  {
   "cell_type": "code",
   "execution_count": null,
   "metadata": {},
   "outputs": [],
   "source": [
    "# Amostra das 10 primeiras mostram que a coluna 'ride_length' há passeios com tempo negativo \n",
    "\n",
    "teste['ride_length'].head(10)"
   ]
  },
  {
   "cell_type": "code",
   "execution_count": null,
   "metadata": {},
   "outputs": [],
   "source": [
    "# Filtragem para os dias menor que 0\n",
    "\n",
    "filtragem = ano['ride_length'].dt.days < 0 "
   ]
  },
  {
   "cell_type": "code",
   "execution_count": null,
   "metadata": {},
   "outputs": [],
   "source": [
    "# Removendo dias negativos\n",
    "\n",
    "ano.drop(ano[filtragem].index, inplace=True)\n",
    "\n",
    "ano['ride_length']"
   ]
  },
  {
   "cell_type": "code",
   "execution_count": null,
   "metadata": {},
   "outputs": [],
   "source": [
    "# Removendo passeios com menos de 60 segundos\n",
    "\n",
    "filtragem_segundo = ano['ride_length'].dt.seconds <= 60\n",
    "ano.drop(ano[filtragem_segundo].index, inplace=True)\n",
    "\n",
    "ano['ride_length'].sort_values(ascending=True).head(10)"
   ]
  },
  {
   "cell_type": "code",
   "execution_count": null,
   "metadata": {},
   "outputs": [],
   "source": [
    "# Media do tempo de bicicleta por membro\n",
    "# Máxima do do tempo de passeio \n",
    "# Moda dos dias da semana \n",
    "\n",
    "media_tempo_bicicleta = ano[\"ride_length\"].mean()\n",
    "tempo_maximo_viagem = ano['ride_length'].max()\n",
    "moda_dias_semana = ano['day_of_week'].mode()\n",
    "\n",
    "print(f'''\n",
    "Media do tempo de bicicleta por membro:\\t{media_tempo_bicicleta}\\n\n",
    "Máxima do do tempo de passeio:{tempo_maximo_viagem}\\n\n",
    "Moda dos dias da semana:{moda_dias_semana}''')"
   ]
  },
  {
   "cell_type": "code",
   "execution_count": null,
   "metadata": {},
   "outputs": [],
   "source": [
    "# Agrupando a média e total de viagens de bicicleta por TIPO membro\n",
    "\n",
    "media_por_membro = ano.groupby(['member_casual'])['ride_length'].mean()\n",
    "total_membro = ano['member_casual'].value_counts()\n",
    "\n",
    "# Transformando a Serie total_membro em DataFrame e resetando o índices\n",
    "total_membrodf = pd.DataFrame(total_membro).reset_index()\n",
    "total_membrodf\n",
    "\n",
    "# Função para mostrar os valores totais de cada variável\n",
    "def formatar_valores(pct, valores):\n",
    "    total = sum(valores)\n",
    "    valor = int(round(pct * total / 100.0))\n",
    "    return f'{valor}'\n",
    "\n",
    "# Plotando o valor total por tipo de membro\n",
    "plt.pie(total_membro,autopct=lambda pct: formatar_valores(pct, total_membro))\n",
    "plt.title('Total membros por categoria')\n",
    "plt.legend(total_membrodf, labels=total_membrodf['member_casual'])\n",
    "\n",
    "print(f''' \n",
    "Média por TIPO de membro:{media_por_membro}\n",
    "\\n\n",
    "Totais usuários por TIPO de membro:{total_membro}\n",
    "''')"
   ]
  },
  {
   "cell_type": "code",
   "execution_count": null,
   "metadata": {},
   "outputs": [],
   "source": [
    "# Agrupando a média de viagens feitas por dia semana\n",
    "\n",
    "media_por_semana = ano.groupby(['day_of_week'])['ride_length'].mean() \n",
    "print(f'A média de viagens feitas por dia semana\\n{media_por_semana}')\n",
    "\n",
    "media_por_semanadf = pd.DataFrame(media_por_semana).reset_index()\n",
    "media_por_semanadf.plot(kind='bar', x='day_of_week', y='ride_length', legend=False)\n",
    "\n",
    "\n",
    "\n",
    "plt.title('Média de tempo por passeios na semana')\n",
    "plt.ylabel('Minutos')\n",
    "plt.xlabel('Dias da Semana')\n",
    "plt.show()"
   ]
  },
  {
   "cell_type": "code",
   "execution_count": null,
   "metadata": {},
   "outputs": [],
   "source": [
    "# Agrupando o total de viagens por dia da semana\n",
    "\n",
    "contagem_viagens_semana = ano.groupby(['day_of_week'])['ride_length'].count(); print(contagem_viagens_semana)\n",
    "\n",
    "contagem_viagens_ordenadas = contagem_viagens_semana.sort_values()\n",
    "\n",
    "contagem_viagens_ordenadas.plot(kind='bar')\n",
    "plt.title(\"Quantidade total de passeios por dia da semana\")\n",
    "plt.xlabel(\"Dias da Semana\")"
   ]
  },
  {
   "cell_type": "code",
   "execution_count": null,
   "metadata": {},
   "outputs": [],
   "source": [
    "# Porcentagem Ciclistas Casuais vs Membros Cyclistic\n",
    "\n",
    "total_membro.plot(title='Porcentagem - Ciclista Casuais vs Membros Cyclistc', \n",
    "                        kind='pie',\n",
    "                        autopct='%1.1f%%',\n",
    "                        shadow=True)"
   ]
  },
  {
   "cell_type": "code",
   "execution_count": null,
   "metadata": {},
   "outputs": [],
   "source": [
    "# Quantidade total por tipo de bicicleta\n",
    "\n",
    "agrupado_total = ano.groupby('rideable_type')['ride_id'].count().reset_index()\n",
    "agrupado_totaldf = pd.DataFrame(agrupado_total)\n",
    "\n",
    "plt.gca().yaxis.set_major_formatter(plt.FuncFormatter(lambda x, _: f'{x/10000:.0f}Mil'))  # Converter para milhares\n",
    "\n",
    "\n",
    "plt.bar(agrupado_totaldf['rideable_type'], agrupado_totaldf['ride_id'])\n",
    "plt.title('Quantidade total por tipo de bicicleta')\n",
    "plt.ylabel('Valores (em milhares)')"
   ]
  },
  {
   "cell_type": "code",
   "execution_count": null,
   "metadata": {},
   "outputs": [],
   "source": [
    "# Separando o total de cada tipo de membro por dia da semana\n",
    "ano_grupos = ano[['rideable_type','member_casual', 'day_of_week']].value_counts()\n",
    "anos_gruposdf = pd.DataFrame(ano_grupos)\n",
    "anos_gruposdf.groupby('member_casual')\n",
    "anos_gruposdf_sorted = anos_gruposdf.sort_values(by=['member_casual'], ascending=False).reset_index()\n",
    "anos_gruposdf_sorted_1 = anos_gruposdf_sorted.sort_values(by=['member_casual'])\n",
    "\n",
    "anos_gruposdf_sorted_1"
   ]
  },
  {
   "cell_type": "code",
   "execution_count": null,
   "metadata": {},
   "outputs": [],
   "source": [
    "# Criando uma coluna 'mes' correspondente com cada viagem por usuário\n",
    "meses_ano = {\n",
    "    1: 'Janeiro', 2: 'Fevereiro', 3: 'Março', 4: 'Abril',\n",
    "    5: 'Maio', 6: 'Junho', 7: 'Julho', 8: 'Agosto',\n",
    "    9: 'Setembro', 10: 'Outubro', 11: 'Novembro', 12: 'Dezembro'\n",
    "}\n",
    "\n",
    "ano['mes'] = ano['started_at'].dt.month.map(meses_ano)\n",
    "\n",
    "ano.head(25)"
   ]
  },
  {
   "cell_type": "code",
   "execution_count": null,
   "metadata": {},
   "outputs": [],
   "source": [
    "#1.  Indexando os meses em ordem\n",
    "#2. Criando o gráfico da quantidade de passeios ao longo do ano.\n",
    "\n",
    "\n",
    "ano_mes_df = ano['mes'].value_counts().reset_index()\n",
    "novo_indice = np.array([7,6,8,5,9,4,3,10,2,1,11,0])\n",
    "ano_mes_df.index = novo_indice\n",
    "ano_mes_df_1 = ano_mes_df.sort_index()\n",
    "ano_mes_df_1.plot(kind='bar', x='mes', y='count', legend=False)\n",
    "plt.xlabel('Meses')\n",
    "plt.title('Quantidade de passeios ao longo do ano')\n",
    "plt.show()"
   ]
  },
  {
   "cell_type": "code",
   "execution_count": null,
   "metadata": {},
   "outputs": [],
   "source": []
  }
 ],
 "metadata": {
  "language_info": {
   "name": "python"
  }
 },
 "nbformat": 4,
 "nbformat_minor": 2
}
